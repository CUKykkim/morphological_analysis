{
 "cells": [
  {
   "cell_type": "code",
   "execution_count": 1,
   "metadata": {},
   "outputs": [],
   "source": [
    "from gensim.models import word2vec"
   ]
  },
  {
   "cell_type": "code",
   "execution_count": 2,
   "metadata": {},
   "outputs": [],
   "source": [
    "model = word2vec.Word2Vec.load(\"toji.model\")"
   ]
  },
  {
   "cell_type": "code",
   "execution_count": 4,
   "metadata": {},
   "outputs": [
    {
     "data": {
      "text/plain": [
       "[('작정', 0.8689026236534119),\n",
       " ('조상', 0.8660575151443481),\n",
       " ('대천', 0.8580108880996704),\n",
       " ('앙앙거리다', 0.853750467300415),\n",
       " ('장철', 0.8518087863922119),\n",
       " ('사시', 0.8466426730155945),\n",
       " ('자리다', 0.8449270129203796),\n",
       " ('우쩌겄소', 0.8448694944381714),\n",
       " ('기생', 0.8425876498222351),\n",
       " ('굶주리다', 0.8424261808395386)]"
      ]
     },
     "execution_count": 4,
     "metadata": {},
     "output_type": "execute_result"
    }
   ],
   "source": [
    "model.wv.most_similar(positive=\"땅\")"
   ]
  },
  {
   "cell_type": "code",
   "execution_count": 5,
   "metadata": {},
   "outputs": [
    {
     "data": {
      "text/plain": [
       "[('제', 0.7536575794219971),\n",
       " ('구석', 0.7514033317565918),\n",
       " ('말짱', 0.7199347615242004),\n",
       " ('점심', 0.7095732092857361),\n",
       " ('그까짓', 0.7062562108039856),\n",
       " ('마침', 0.7052753567695618),\n",
       " ('사나', 0.7048432230949402),\n",
       " ('남정', 0.7043246626853943),\n",
       " ('이지마', 0.7015029788017273),\n",
       " ('물어', 0.6995437145233154)]"
      ]
     },
     "execution_count": 5,
     "metadata": {},
     "output_type": "execute_result"
    }
   ],
   "source": [
    "model.wv.most_similar(positive=\"집\")"
   ]
  }
 ],
 "metadata": {
  "kernelspec": {
   "display_name": "Python 3",
   "language": "python",
   "name": "python3"
  },
  "language_info": {
   "codemirror_mode": {
    "name": "ipython",
    "version": 3
   },
   "file_extension": ".py",
   "mimetype": "text/x-python",
   "name": "python",
   "nbconvert_exporter": "python",
   "pygments_lexer": "ipython3",
   "version": "3.11.0"
  },
  "orig_nbformat": 4
 },
 "nbformat": 4,
 "nbformat_minor": 2
}
